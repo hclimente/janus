{
 "cells": [
  {
   "cell_type": "code",
   "execution_count": null,
   "id": "entire-anger",
   "metadata": {
    "tags": []
   },
   "outputs": [],
   "source": [
    "%load_ext rpy2.ipython\n",
    "from functools import lru_cache\n",
    "\n",
    "import numpy as np\n",
    "import torch\n",
    "import torchvision.models as models\n",
    "from torchvision import transforms\n",
    "\n",
    "from janus.datasets import Boyd2019, MultiCellDataset\n",
    "from janus.networks import SiameseNet\n",
    "from janus.transforms import RandomRot90, RGB\n",
    "from src.viz import embed_matrix, sample_imgs, xy_plot\n",
    "\n",
    "\n",
    "device = torch.device('cuda') if torch.cuda.is_available() else torch.device('cpu')\n",
    "\n",
    "fs = models.vgg19(pretrained=True)\n",
    "# fs = None\n",
    "\n",
    "metadata_file = '../data/boyd_2019_PlateMap-KPP_MOA.xlsx'\n",
    "results_path = '../results/boyd_2019/'\n",
    "labels = ['Neutral', 'PKC Inhibitor']\n",
    "# labels = ['Neutral', 'EGF Receptor Kinase Inhibitor', 'Cysteine Protease Inhibitor', \n",
    "#           'PKC Inhibitor', 'Tyrosine Kinase Inhibitor', 'Protein Tyrosine Phosphatase Inhibitor']\n",
    "\n",
    "if len(labels) > 2:\n",
    "    results_path = results_path[:-1] + '_multiclass/'\n",
    "if fs:\n",
    "    results_path = results_path[:-1] + '_vgg_finetune/'"
   ]
  },
  {
   "cell_type": "code",
   "execution_count": null,
   "id": "based-creator",
   "metadata": {
    "tags": []
   },
   "outputs": [],
   "source": [
    "%%R -i results_path\n",
    "\n",
    "library(tidyverse)\n",
    "\n",
    "sn <- lapply(list.files(path = results_path, pattern = '*tsv'), function(f) {\n",
    "    \n",
    "    params <- strsplit(f, '_') %>% unlist\n",
    "    \n",
    "    read_tsv(paste0(results_path, f), col_types = 'dd') %>%\n",
    "        mutate(dropout = as.numeric(params[3]),\n",
    "               margin = as.numeric(params[5]),\n",
    "               seed = strsplit(params[7], '.', fixed = TRUE) %>% unlist %>% head(1) %>% as.numeric,\n",
    "               i = 1:n()) %>%\n",
    "        filter(i %% 1000 == 0)\n",
    "    \n",
    "}) %>% bind_rows %>%\n",
    "    pivot_longer(ends_with('loss'), names_to = 'dataset', values_to = 'loss') %>%\n",
    "    mutate(dataset = gsub('_loss', '', dataset))"
   ]
  },
  {
   "cell_type": "code",
   "execution_count": null,
   "id": "outstanding-caribbean",
   "metadata": {
    "tags": []
   },
   "outputs": [],
   "source": [
    "%%R -w 8 -h 8 --units in\n",
    "\n",
    "sn %>%\n",
    "    group_by(dropout, margin, dataset, i) %>%\n",
    "    summarize(loss = mean(loss)) %>%\n",
    "    ggplot(aes(x=i, y=log10(loss), color=dataset)) +\n",
    "        geom_step() +\n",
    "        facet_wrap(dropout ~ margin, scales = 'free') +\n",
    "        labs(x = 'Iteration', y='LogLoss', color='Dataset') +\n",
    "        scale_x_continuous(breaks = c(1, 5000, 15000)) +\n",
    "        theme(text = element_text(size=18),\n",
    "              legend.position = 'bottom')"
   ]
  },
  {
   "cell_type": "code",
   "execution_count": null,
   "id": "bored-clearance",
   "metadata": {
    "tags": []
   },
   "outputs": [],
   "source": [
    "@lru_cache(maxsize=None)\n",
    "def get_embeddings(dropout, margin, seed, dataset='test'):\n",
    "\n",
    "    torch_file = 'sn_dropout_%s_margin_%s_seed_%s_epoch_100.torch' %\\\n",
    "        (dropout, margin, seed)\n",
    "\n",
    "\n",
    "    # load saved net\n",
    "    if fs:\n",
    "        net = SiameseNet(feature_extractor=fs).to(device)\n",
    "        tr = transforms.Compose([transforms.RandomHorizontalFlip(),\n",
    "                                 transforms.RandomVerticalFlip(),\n",
    "                                 RandomRot90(),\n",
    "                                 transforms.Normalize(mean=[0.485, 0.456, 0.406],\n",
    "                                                      std=[0.229, 0.224, 0.225])])\n",
    "    else:\n",
    "        net = SiameseNet().to(device)\n",
    "        tr = transforms.Compose([transforms.RandomHorizontalFlip(),\n",
    "                                 transforms.RandomVerticalFlip(),\n",
    "                                 RandomRot90()])\n",
    "        \n",
    "    net.load_state_dict(torch.load(results_path + torch_file,\n",
    "                                   map_location=torch.device(device)))\n",
    "    net = net.eval()\n",
    "\n",
    "    ds1 = torch.load('%s/%s_1_seed_%s.pkl' % (results_path, dataset, seed))\n",
    "    ds2 = torch.load('%s/%s_2_seed_%s.pkl' % (results_path, dataset, seed))\n",
    "    metadata = Boyd2019.read_metadata('../data/boyd_2019_PlateMap-KPP_MOA.xlsx')\n",
    "    metadata = metadata.loc[metadata.moa.isin(labels)]\n",
    "    \n",
    "    _, embeddings, moas, cell_line = \\\n",
    "        sample_imgs(net, MultiCellDataset(ds1, ds2, metadata, transform=tr), iters=20)\n",
    "\n",
    "    return embed_matrix(embeddings, 'umap'), moas, cell_line"
   ]
  },
  {
   "cell_type": "code",
   "execution_count": null,
   "id": "current-louis",
   "metadata": {
    "tags": []
   },
   "outputs": [],
   "source": [
    "import matplotlib.pyplot as plt\n",
    "import seaborn as sns\n",
    "sns.set_theme()\n",
    "\n",
    "def plot_embeddings_d(splits, dropouts, dataset, margin=1.0):\n",
    "    \n",
    "    fig, ax = plt.subplots(len(splits), len(dropouts), figsize = (15, 14))\n",
    "    np.random.seed(1)\n",
    "\n",
    "    for i in splits:\n",
    "        for j,d in enumerate(dropouts):\n",
    "\n",
    "            x, moa, cell_line = get_embeddings(d, margin, i+1, dataset)\n",
    "            sns.scatterplot(x=x[:, 0], y=x[:, 1], style=cell_line, hue=moa, ax=ax[i,j])\n",
    "            ax[i,j].get_legend().remove()\n",
    "\n",
    "            if i == 0:\n",
    "                ax[i,j].title.set_text('Dropout %s' % d)            \n",
    "\n",
    "    handles, labels = ax[i,j].get_legend_handles_labels()\n",
    "    fig.suptitle(dataset.capitalize(), fontsize=25, x=.15, y=.93)\n",
    "    fig.legend(handles, labels, loc=(.5, .91), ncol = 2)\n",
    "    \n",
    "plot_embeddings_d([x for x in range(3)], [0.1, 0.5], 'test')"
   ]
  },
  {
   "cell_type": "code",
   "execution_count": null,
   "id": "moral-adoption",
   "metadata": {
    "tags": []
   },
   "outputs": [],
   "source": [
    "def plot_embeddings_m(splits, margins, dataset, dropout=.1):\n",
    "    \n",
    "    fig, ax = plt.subplots(len(splits), len(margins), figsize = (15, 14))\n",
    "    np.random.seed(1)\n",
    "\n",
    "    for i in splits:\n",
    "        for j,m in enumerate(margins):\n",
    "\n",
    "            x, moa, cell_line = get_embeddings(dropout, m, i+1, dataset)\n",
    "            sns.scatterplot(x=x[:, 0], y=x[:, 1], style=cell_line, hue=moa, ax=ax[i,j])\n",
    "            ax[i,j].get_legend().remove()\n",
    "\n",
    "            if i == 0:\n",
    "                ax[i,j].title.set_text('Margin %s' % m)            \n",
    "\n",
    "    handles, labels = ax[i,j].get_legend_handles_labels()\n",
    "    fig.suptitle(dataset.capitalize(), fontsize=25, x=.15, y=.93)\n",
    "    fig.legend(handles, labels, loc=(.5, .91), ncol = 2)\n",
    "    \n",
    "plot_embeddings_m([x for x in range(3)], ['0.1', '1.0'], 'test')"
   ]
  },
  {
   "cell_type": "code",
   "execution_count": null,
   "id": "abstract-madagascar",
   "metadata": {
    "tags": []
   },
   "outputs": [],
   "source": [
    "plot_embeddings_m([x for x in range(3)], ['0.1', '1.0'], 'train')"
   ]
  },
  {
   "cell_type": "code",
   "execution_count": null,
   "id": "efc3c257-95b6-4974-8c34-e7d4a7ec2a9b",
   "metadata": {},
   "outputs": [],
   "source": []
  }
 ],
 "metadata": {
  "kernelspec": {
   "display_name": "Python 3",
   "language": "python",
   "name": "python3"
  },
  "language_info": {
   "codemirror_mode": {
    "name": "ipython",
    "version": 3
   },
   "file_extension": ".py",
   "mimetype": "text/x-python",
   "name": "python",
   "nbconvert_exporter": "python",
   "pygments_lexer": "ipython3",
   "version": "3.8.8"
  }
 },
 "nbformat": 4,
 "nbformat_minor": 5
}
