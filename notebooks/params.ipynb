{
 "cells": [
  {
   "cell_type": "code",
   "execution_count": null,
   "id": "entire-anger",
   "metadata": {},
   "outputs": [],
   "source": [
    "%load_ext rpy2.ipython\n",
    "from functools import lru_cache\n",
    "\n",
    "import numpy as np\n",
    "import torch\n",
    "\n",
    "from janus.datasets import Boyd2019, MultiCellDataset\n",
    "from janus.networks import SiameseNet\n",
    "from janus.viz import embed_matrix, sample_imgs, xy_plot\n",
    "\n",
    "\n",
    "device = torch.device('cuda') if torch.cuda.is_available() else torch.device('cpu')\n",
    "\n",
    "results_path = '../results/boyd_2019/'\n",
    "metadata_file = '../data/boyd_2019_PlateMap-KPP_MOA.xlsx'"
   ]
  },
  {
   "cell_type": "code",
   "execution_count": null,
   "id": "based-creator",
   "metadata": {},
   "outputs": [],
   "source": [
    "%%R -i results_path\n",
    "\n",
    "library(tidyverse)\n",
    "\n",
    "sn <- lapply(list.files(path = results_path, pattern = '*tsv'), function(f) {\n",
    "    \n",
    "    params <- strsplit(f, '_') %>% unlist\n",
    "    \n",
    "    read_tsv(paste0(results_path, f), col_types = 'dd') %>%\n",
    "        mutate(dropout = as.numeric(params[3]),\n",
    "               margin = as.numeric(params[5]),\n",
    "               seed = strsplit(params[7], '.', fixed = TRUE) %>% unlist %>% head(1) %>% as.numeric,\n",
    "               i = 1:n()) %>%\n",
    "        filter(i %% 1000 == 0)\n",
    "    \n",
    "}) %>% bind_rows %>%\n",
    "    pivot_longer(ends_with('loss'), names_to = 'dataset', values_to = 'loss') %>%\n",
    "    mutate(dataset = gsub('_loss', '', dataset))"
   ]
  },
  {
   "cell_type": "code",
   "execution_count": null,
   "id": "outstanding-caribbean",
   "metadata": {},
   "outputs": [],
   "source": [
    "%%R -w 10 -h 10 --units in\n",
    "\n",
    "sn %>%\n",
    "    group_by(dropout, margin, dataset, i) %>%\n",
    "    summarize(loss = mean(loss)) %>%\n",
    "    ggplot(aes(x=i, y=log10(loss), color=dataset)) +\n",
    "        geom_step() +\n",
    "        facet_wrap(dropout ~ margin, scales = 'free', ncol=4) +\n",
    "        labs(x = 'Iteration', y='LogLoss', color='Dataset') +\n",
    "        scale_x_continuous(breaks = c(1, 5000, 15000)) +\n",
    "        theme(text = element_text(size=18),\n",
    "              legend.position = 'bottom')"
   ]
  },
  {
   "cell_type": "code",
   "execution_count": null,
   "id": "bored-clearance",
   "metadata": {
    "tags": []
   },
   "outputs": [],
   "source": [
    "@lru_cache(maxsize=None)\n",
    "def get_embeddings(dropout, margin, seed, dataset='test'):\n",
    "\n",
    "    torch_file = 'sn_dropout_%s_margin_%s_seed_%s_epoch_100.torch' %\\\n",
    "        (dropout, margin, seed)\n",
    "\n",
    "    # load saved net\n",
    "    net = SiameseNet().to(device)\n",
    "    net.load_state_dict(torch.load(results_path + torch_file,\n",
    "                                   map_location=torch.device(device)))\n",
    "    net = net.eval()\n",
    "\n",
    "    ds1 = torch.load('%s/%s_1_seed_%s.pkl' % (results_path, dataset, seed))\n",
    "    ds2 = torch.load('%s/%s_2_seed_%s.pkl' % (results_path, dataset, seed))\n",
    "    metadata = Boyd2019.read_metadata('../data/boyd_2019_PlateMap-KPP_MOA.xlsx')\n",
    "    metadata = metadata.loc[metadata.moa.isin(['Neutral', 'PKC Inhibitor'])]\n",
    "    \n",
    "    _, embeddings, moas, cell_line = \\\n",
    "        sample_imgs(net, MultiCellDataset(ds1, ds2, metadata))\n",
    "\n",
    "    return embed_matrix(embeddings, 'umap'), moas, cell_line"
   ]
  },
  {
   "cell_type": "code",
   "execution_count": null,
   "id": "current-louis",
   "metadata": {
    "tags": []
   },
   "outputs": [],
   "source": [
    "import matplotlib.pyplot as plt\n",
    "import seaborn as sns\n",
    "sns.set_theme()\n",
    "\n",
    "dropouts = [0.05, 0.1, 0.25, 0.5]\n",
    "fig, ax = plt.subplots(5, len(dropouts), figsize = (15, 14))\n",
    "\n",
    "np.random.seed(1)\n",
    "\n",
    "for i in range(5):\n",
    "    for j,d in enumerate(dropouts):\n",
    "\n",
    "        x, moa, cell_line = get_embeddings(d, 1.0, i+1, 'test')\n",
    "        sns.scatterplot(x=x[:, 0], y=x[:, 1], hue=moa, style=cell_line, ax=ax[i,j])\n",
    "        ax[i,j].get_legend().remove()\n",
    "        if i == 0:\n",
    "            ax[i,j].title.set_text('Dropout %s' % d)"
   ]
  },
  {
   "cell_type": "code",
   "execution_count": null,
   "id": "moral-adoption",
   "metadata": {
    "tags": []
   },
   "outputs": [],
   "source": [
    "margins = ['0.001', '0.01', '0.1', '1.0']\n",
    "fig, ax = plt.subplots(5, len(margins), figsize = (15, 14))\n",
    "\n",
    "for i in range(5):\n",
    "    for j,m in enumerate(margins):\n",
    "\n",
    "        x, moa, cell_line = get_embeddings(0.5, m, i+1, 'test')\n",
    "        sns.scatterplot(x=x[:, 0], y=x[:, 1], hue=moa, style=cell_line, ax=ax[i,j])\n",
    "        ax[i,j].get_legend().remove()\n",
    "        if i == 0:\n",
    "            ax[i,j].title.set_text('Margin %s' % m)"
   ]
  },
  {
   "cell_type": "code",
   "execution_count": null,
   "id": "abstract-madagascar",
   "metadata": {
    "tags": []
   },
   "outputs": [],
   "source": [
    "margins = ['0.001', '0.01', '0.1', '1.0']\n",
    "fig, ax = plt.subplots(5, len(margins), figsize = (15, 14))\n",
    "\n",
    "for i in range(5):\n",
    "    for j,m in enumerate(margins):\n",
    "\n",
    "        x, moa, cell_line = get_embeddings(0.5, m, i+1, 'train')\n",
    "        sns.scatterplot(x=x[:, 0], y=x[:, 1], hue=moa, style=cell_line, ax=ax[i,j])\n",
    "        ax[i,j].get_legend().remove()\n",
    "        if i == 0:\n",
    "            ax[i,j].title.set_text('Margin %s' % m)"
   ]
  },
  {
   "cell_type": "markdown",
   "id": "a43d90ad-0ee0-4b53-800a-58886f9be61b",
   "metadata": {},
   "source": [
    "# Close ups"
   ]
  },
  {
   "cell_type": "code",
   "execution_count": null,
   "id": "294667d0-caea-4889-8a46-1fac48c3f432",
   "metadata": {
    "tags": []
   },
   "outputs": [],
   "source": [
    "fig, ax = plt.subplots(1, 5, figsize = (50, 10))\n",
    "ax[2].title.set_text('Margin 1.0')\n",
    "\n",
    "np.random.seed(1)\n",
    "\n",
    "for i in range(5):\n",
    "    x, moa, cell_line = get_embeddings(0.5, 1.0, i+1, 'test')\n",
    "    sns.scatterplot(x=x[:, 0], y=x[:, 1], hue=cell_line, style=moa, ax=ax[i], s=100)\n",
    "    ax[i].get_legend().remove()"
   ]
  },
  {
   "cell_type": "code",
   "execution_count": null,
   "id": "4ae742b0-c191-44b8-907c-d554c719d2c6",
   "metadata": {
    "tags": []
   },
   "outputs": [],
   "source": [
    "fig, ax = plt.subplots(1, 5, figsize = (25, 5))\n",
    "ax[2].title.set_text('Margin 1.0')\n",
    "\n",
    "np.random.seed(1)\n",
    "\n",
    "for i in range(5):\n",
    "    x, moa, cell_line = get_embeddings(0.5, 1.0, i+1, 'train')\n",
    "    sns.scatterplot(x=x[:, 0], y=x[:, 1], hue=moa, style=cell_line, ax=ax[i], s=300)\n",
    "    ax[i].get_legend().remove()"
   ]
  },
  {
   "cell_type": "code",
   "execution_count": null,
   "id": "b8ce3e1c-ddf8-4b87-8d49-ba303c39f0e7",
   "metadata": {},
   "outputs": [],
   "source": []
  }
 ],
 "metadata": {
  "kernelspec": {
   "display_name": "Python 3",
   "language": "python",
   "name": "python3"
  },
  "language_info": {
   "codemirror_mode": {
    "name": "ipython",
    "version": 3
   },
   "file_extension": ".py",
   "mimetype": "text/x-python",
   "name": "python",
   "nbconvert_exporter": "python",
   "pygments_lexer": "ipython3",
   "version": "3.8.8"
  }
 },
 "nbformat": 4,
 "nbformat_minor": 5
}
