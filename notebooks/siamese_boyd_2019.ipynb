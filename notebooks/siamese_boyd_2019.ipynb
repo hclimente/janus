{
 "cells": [
  {
   "cell_type": "code",
   "execution_count": null,
   "metadata": {
    "tags": []
   },
   "outputs": [],
   "source": [
    "from os.path import join\n",
    "\n",
    "import matplotlib.pyplot as plt\n",
    "import numpy as np\n",
    "import seaborn as sns\n",
    "import torch\n",
    "from torch.utils.data import DataLoader\n",
    "import torchvision\n",
    "\n",
    "from janus.datasets import Boyd2019, MultiCellDataset\n",
    "from janus.networks import SiameseNet\n",
    "from janus.viz import plot_cell, sample_imgs, tsne, umap\n",
    "\n",
    "\n",
    "data_path = '../data/boyd_2019'\n",
    "metadata_file = '../data/boyd_2019_PlateMap-KPP_MOA.xlsx'\n",
    "mda231_path = '22_384_20X-hNA_D_F_C3_C5_20160031_2016.01.25.17.23.13_MDA231'\n",
    "mda468_path = '22_384_20X-hNA_D_F_C3_C5_20160032_2016.01.25.16.27.22_MDA468'\n",
    "\n",
    "device = torch.device('cuda') if torch.cuda.is_available() else torch.device('cpu')\n",
    "\n",
    "def read_data(metadata, seed=1):\n",
    "    \n",
    "    results_path = '../results/boyd_2019'\n",
    "    \n",
    "    tr_1 = torch.load('{}/train_1_seed_{}.pkl'.format(results_path, seed))\n",
    "    tr_2 = torch.load('{}/train_2_seed_{}.pkl'.format(results_path, seed))    \n",
    "    tr_data = MultiCellDataset(tr_1, tr_2, metadata)\n",
    "    \n",
    "    te_1 = torch.load('{}/test_1_seed_{}.pkl'.format(results_path, seed))\n",
    "    te_2 = torch.load('{}/test_2_seed_{}.pkl'.format(results_path, seed))    \n",
    "    te_data = MultiCellDataset(te_1, te_2, metadata)\n",
    "    \n",
    "    return tr_data, te_data\n",
    "\n",
    "\n",
    "metadata = Boyd2019.read_metadata(metadata_file)\n",
    "metadata = metadata.loc[metadata.moa.isin(['Neutral', 'PKC Inhibitor'])]\n",
    "\n",
    "avg_mda231, std_mda231 = Boyd2019.load_parameters(\n",
    "    join(data_path, mda231_path, 'norm_params.pkl'), None, False)\n",
    "avg_mda468, std_mda468 = Boyd2019.load_parameters(\n",
    "    join(data_path, mda468_path, 'norm_params.pkl'), None, False)\n",
    "\n",
    "tr_data, te_data = read_data(metadata)\n",
    "\n",
    "for i in np.random.randint(1, 1000, 4):\n",
    "    plot_cell(tr_data.dataset_1[i][0])"
   ]
  },
  {
   "cell_type": "code",
   "execution_count": null,
   "metadata": {},
   "outputs": [],
   "source": [
    "avg_mda468"
   ]
  },
  {
   "cell_type": "markdown",
   "metadata": {},
   "source": [
    "# Data generator"
   ]
  },
  {
   "cell_type": "code",
   "execution_count": null,
   "metadata": {},
   "outputs": [],
   "source": [
    "def imshow(img, text=None, should_save=False):\n",
    "\n",
    "    fig, ax = plt.subplots(figsize=(15, 5))\n",
    "\n",
    "    npimg = img.numpy()\n",
    "\n",
    "    if text:\n",
    "        plt.text(75, 8, text, style='italic',fontweight='bold',\n",
    "            bbox={'facecolor':'white', 'alpha':0.8, 'pad':10})\n",
    "\n",
    "    ax.imshow(np.transpose(npimg, (1, 2, 0)))\n",
    "    ax.axis('off')\n",
    "    plt.show()\n",
    "\n",
    "def show_plot(iteration,loss):\n",
    "    plt.plot(iteration,loss)\n",
    "    plt.show()\n",
    "\n",
    "vis_dataloader = DataLoader(tr_data,\n",
    "                            shuffle=True,\n",
    "                            num_workers=0,\n",
    "                            batch_size=8)\n",
    "dataiter = iter(vis_dataloader)\n",
    "\n",
    "example_batch = next(dataiter)\n",
    "concatenated = torch.cat((example_batch[0],example_batch[2]),0)\n",
    "print(example_batch[4].numpy())\n",
    "imshow(torchvision.utils.make_grid(concatenated))"
   ]
  },
  {
   "cell_type": "markdown",
   "metadata": {},
   "source": [
    "# Testing"
   ]
  },
  {
   "cell_type": "code",
   "execution_count": null,
   "metadata": {
    "pycharm": {
     "name": "#%%\n"
    },
    "tags": []
   },
   "outputs": [],
   "source": [
    "from janus.viz import embed_matrix, plot_tiles\n",
    "import matplotlib.patches as patches\n",
    "\n",
    "# load saved net\n",
    "net = SiameseNet().to(device)\n",
    "net.load_state_dict(torch.load('../results/boyd_2019/sn_dropout_0.5_margin_1.0_seed_1_epoch_100.torch', \n",
    "                               map_location=torch.device(device)))\n",
    "net = net.eval()\n",
    "\n",
    "imgs, embeddings, moas, cell_lines = sample_imgs(net, tr_data)\n",
    "\n",
    "umap(embeddings, moas)\n",
    "\n",
    "x_emb = embed_matrix(embeddings, 'umap')\n",
    "canvas, img_idx_dict = plot_tiles(imgs, x_emb, 20, pad=1)\n",
    "\n",
    "fig, ax = plt.subplots(figsize=(25, 25))\n",
    "ax.imshow(canvas)\n",
    "ax.axis('off')\n",
    "\n",
    "palette = list(sns.color_palette().as_hex())\n",
    "\n",
    "for img_key in img_idx_dict.keys():\n",
    "    xmin, xmax, ymin, ymax = img_idx_dict[img_key]\n",
    "    cls = moas[img_key]\n",
    "    colour = palette[0] if cls == \"Neutral\" else palette[1]\n",
    "    # Create a Rectangle patch\n",
    "    line_width = 3\n",
    "    rect = patches.Rectangle((xmin+line_width, ymin+line_width), \n",
    "                             xmax-xmin-2*line_width+.5, \n",
    "                             ymax-ymin-2*line_width+.5,\n",
    "                             linewidth=line_width, \n",
    "                             edgecolor=colour, \n",
    "                             facecolor='none')\n",
    "    # Add the patch to the Axes\n",
    "    ax.add_patch(rect)\n",
    "\n",
    "umap(embeddings, moas)"
   ]
  },
  {
   "cell_type": "code",
   "execution_count": null,
   "metadata": {
    "tags": []
   },
   "outputs": [],
   "source": [
    "x = torch.mean(imgs, dim=0)\n",
    "\n",
    "fig, axes = plt.subplots(figsize=(8, 8), ncols=3)\n",
    "\n",
    "axes[0].imshow(std_mda468[0])\n",
    "axes[1].imshow(std_mda468[1])\n",
    "axes[2].imshow(std_mda468[2])"
   ]
  },
  {
   "cell_type": "code",
   "execution_count": null,
   "metadata": {
    "tags": []
   },
   "outputs": [],
   "source": []
  },
  {
   "cell_type": "code",
   "execution_count": null,
   "metadata": {
    "tags": []
   },
   "outputs": [],
   "source": [
    "\n",
    "# perc to 99\n",
    "# replace max by clip\n",
    "def plot_cell(crop):\n",
    "\n",
    "    def rescale(channel):\n",
    "        top = np.percentile(channel, 99)\n",
    "        bot = torch.min(channel)\n",
    "        return (channel - bot) / (top - bot)\n",
    "    \n",
    "    dapi = rescale(crop[0,...])\n",
    "    cy5 = rescale(crop[1,...])\n",
    "    cy3 = rescale(crop[2,...])\n",
    "    \n",
    "    fig, axes = plt.subplots(figsize=(5, 5), ncols=2, nrows=2)\n",
    "    axes[0][0].imshow(dapi, cmap='Blues')\n",
    "    axes[0][1].imshow(cy5, cmap='Reds')\n",
    "    axes[1][0].imshow(cy3, cmap='Greens')\n",
    "    axes[1][1].imshow(np.dstack((cy5[..., None], cy3[..., None], dapi[..., None])))\n",
    "\n",
    "x = (imgs[22] * std_mda231) + avg_mda231\n",
    "x = x.to(torch.uint8)\n",
    "plot_cell(imgs[22])"
   ]
  },
  {
   "cell_type": "code",
   "execution_count": null,
   "metadata": {
    "tags": []
   },
   "outputs": [],
   "source": [
    "np.percentile(channel, 99, axis=(1,2))\n",
    "torch.min(channel, dim=0)"
   ]
  },
  {
   "cell_type": "code",
   "execution_count": null,
   "metadata": {
    "tags": []
   },
   "outputs": [],
   "source": [
    "channel = imgs[22]\n",
    "top = np.percentile(channel, 99)\n",
    "bot = channel.min(0)\n",
    "(channel - bot) / (top - bot) "
   ]
  },
  {
   "cell_type": "code",
   "execution_count": null,
   "metadata": {},
   "outputs": [],
   "source": [
    "channel.min(0)"
   ]
  },
  {
   "cell_type": "code",
   "execution_count": null,
   "metadata": {
    "tags": []
   },
   "outputs": [],
   "source": [
    "imgs[22].shape\n",
    "# imgs[22].permute((1, 2, 0)).shape"
   ]
  },
  {
   "cell_type": "code",
   "execution_count": null,
   "metadata": {
    "tags": []
   },
   "outputs": [],
   "source": [
    "imgs[22][0,...]"
   ]
  },
  {
   "cell_type": "code",
   "execution_count": null,
   "metadata": {
    "tags": []
   },
   "outputs": [],
   "source": [
    "x = (imgs[22] * std_mda231) + avg_mda231\n",
    "x = x.to(torch.uint8)\n",
    "plot_cell(x)"
   ]
  },
  {
   "cell_type": "code",
   "execution_count": null,
   "metadata": {},
   "outputs": [],
   "source": [
    "x.shape"
   ]
  },
  {
   "cell_type": "code",
   "execution_count": null,
   "metadata": {
    "tags": []
   },
   "outputs": [],
   "source": [
    "np.max(x.numpy(), axis=(1, 2))"
   ]
  },
  {
   "cell_type": "code",
   "execution_count": null,
   "metadata": {},
   "outputs": [],
   "source": [
    "canvas, img_idx_dict = plot_tiles(imgs, x_emb, 20, pad=1)\n",
    "\n",
    "fig, ax = plt.subplots(figsize=(25, 25))\n",
    "ax.imshow(canvas)\n",
    "ax.axis('off')\n",
    "\n",
    "palette = list(sns.color_palette().as_hex())\n",
    "\n",
    "for img_key in img_idx_dict.keys():\n",
    "    xmin, xmax, ymin, ymax = img_idx_dict[img_key]\n",
    "    cls = moas[img_key]\n",
    "    colour = palette[0] if cls == \"Neutral\" else palette[1]\n",
    "    # Create a Rectangle patch\n",
    "    line_width = 3\n",
    "    rect = patches.Rectangle((xmin+line_width, ymin+line_width), \n",
    "                             xmax-xmin-2*line_width+.5, \n",
    "                             ymax-ymin-2*line_width+.5,\n",
    "                             linewidth=line_width, \n",
    "                             edgecolor=colour, \n",
    "                             facecolor='none')\n",
    "    # Add the patch to the Axes\n",
    "    ax.add_patch(rect)\n",
    "\n",
    "umap(embeddings, moas)"
   ]
  },
  {
   "cell_type": "code",
   "execution_count": null,
   "metadata": {
    "tags": []
   },
   "outputs": [],
   "source": [
    "moas[img_key]"
   ]
  },
  {
   "cell_type": "code",
   "execution_count": null,
   "metadata": {},
   "outputs": [],
   "source": []
  }
 ],
 "metadata": {
  "kernelspec": {
   "display_name": "Python 3",
   "language": "python",
   "name": "python3"
  },
  "language_info": {
   "codemirror_mode": {
    "name": "ipython",
    "version": 3
   },
   "file_extension": ".py",
   "mimetype": "text/x-python",
   "name": "python",
   "nbconvert_exporter": "python",
   "pygments_lexer": "ipython3",
   "version": "3.8.8"
  }
 },
 "nbformat": 4,
 "nbformat_minor": 4
}
