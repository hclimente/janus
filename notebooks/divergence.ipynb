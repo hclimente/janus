{
 "cells": [
  {
   "cell_type": "code",
   "execution_count": null,
   "id": "43bc088f-aea1-43c5-b461-748db184ed70",
   "metadata": {},
   "outputs": [],
   "source": [
    "import torch\n",
    "import torch.nn.functional as F\n",
    "import torchvision.models as models\n",
    "from sklearn.manifold import TSNE\n",
    "from umap import UMAP\n",
    "\n",
    "from janus.datasets import Boyd2019\n",
    "from src.viz import xy_plot, norm_crop_for_vis\n",
    "\n",
    "data_path = '../data/boyd_2019'\n",
    "metadata_file = '../data/boyd_2019_PlateMap-KPP_MOA.xlsx'\n",
    "\n",
    "metadata = Boyd2019.read_metadata(metadata_file)\n",
    "\n",
    "# filter by 2 moas and make train test\n",
    "metadata = metadata.loc[metadata.moa.isin(['Neutral', 'EGF Receptor Kinase Inhibitor'])]\n",
    "train_metadata = metadata.sample(frac=0.7)\n",
    "test_metadata = metadata.drop(train_metadata.index)\n",
    "\n",
    "boyd2019 = Boyd2019(data_path, train_metadata, padding=64, scale=0.5)\n",
    "\n",
    "mda231 = torch.cat([x[0][None] for x in boyd2019.dataset_1], axis=0)\n",
    "mda468 = torch.cat([x[0][None] for x in boyd2019.dataset_2], axis=0)\n",
    "\n",
    "print(mda231.shape, mda468.shape)"
   ]
  },
  {
   "cell_type": "markdown",
   "id": "f06854b1-d948-40e3-8a2f-f12b1a84bed8",
   "metadata": {},
   "source": [
    "## Raw pixels"
   ]
  },
  {
   "cell_type": "code",
   "execution_count": null,
   "id": "35d94aa2-a426-4dd8-a6ff-6029d078f4ef",
   "metadata": {},
   "outputs": [],
   "source": [
    "nb_samples = 2000\n",
    "labels = nb_samples // 2 * ['mda231'] + nb_samples // 2 * ['mda468']\n",
    "\n",
    "idx = torch.randint(0, mda231.shape[0], (nb_samples // 2,))\n",
    "mda231_samples = mda231[idx]\n",
    "\n",
    "idx = torch.randint(0, mda468.shape[0], (nb_samples // 2,))\n",
    "mda468_samples = mda468[idx]\n",
    "\n",
    "all_samples = torch.cat([mda231_samples, mda468_samples], axis=0)\n",
    "print(torch.min(all_samples), torch.max(all_samples))"
   ]
  },
  {
   "cell_type": "code",
   "execution_count": null,
   "id": "04b84dcf-1d61-47c6-993e-9a3e1130a620",
   "metadata": {},
   "outputs": [],
   "source": [
    "x_emb = TSNE().fit_transform(all_samples.reshape(nb_samples, -1))\n",
    "xy_plot(x_emb, labels, 'TSNE')"
   ]
  },
  {
   "cell_type": "markdown",
   "id": "6870a66f-0a51-4fbf-ac8e-207ad0c46611",
   "metadata": {},
   "source": [
    "## Raw pixels - unnormalised"
   ]
  },
  {
   "cell_type": "code",
   "execution_count": null,
   "id": "d90b988a-aba4-4d88-b37b-c70fd3254cd0",
   "metadata": {},
   "outputs": [],
   "source": [
    "norm_mda231 = [norm_crop_for_vis(x).permute((2, 0, 1))[None] for x in mda231_samples]\n",
    "norm_mda468 = [norm_crop_for_vis(x).permute((2, 0, 1))[None] for x in mda468_samples]\n",
    "\n",
    "all_samples_un = torch.cat([torch.cat(norm_mda231), torch.cat(norm_mda468)], axis=0)\n",
    "\n",
    "print(torch.min(all_samples_un), torch.max(all_samples_un))"
   ]
  },
  {
   "cell_type": "code",
   "execution_count": null,
   "id": "ff77d299-50ad-4a69-8c53-5eb516be9e72",
   "metadata": {},
   "outputs": [],
   "source": [
    "x_emb = TSNE().fit_transform(all_samples_un.reshape(nb_samples, -1))\n",
    "xy_plot(x_emb, labels, 'TSNE')"
   ]
  },
  {
   "cell_type": "markdown",
   "id": "6f48b787-ad18-4282-9cda-e1e0fa0c156c",
   "metadata": {},
   "source": [
    "## VGG features"
   ]
  },
  {
   "cell_type": "code",
   "execution_count": null,
   "id": "0f2dc069-8f8b-42eb-a3a7-53460e94588c",
   "metadata": {},
   "outputs": [],
   "source": [
    "vgg16 = models.vgg16(pretrained=True)\n",
    "vgg16 = vgg16.eval()\n",
    "\n",
    "def vgg_features(inputs):\n",
    "\n",
    "    x = vgg16.features(inputs)\n",
    "    x = vgg16.avgpool(x)\n",
    "    x = torch.flatten(x, 1)\n",
    "    x = vgg16.classifier[:5](x)\n",
    "\n",
    "    return x\n",
    "\n",
    "vgg_mean = torch.tensor([0.485, 0.456, 0.406]).reshape(3, 1, 1)\n",
    "vgg_std = torch.tensor([0.229, 0.224, 0.225]).reshape(3, 1, 1)"
   ]
  },
  {
   "cell_type": "code",
   "execution_count": null,
   "id": "0f035813-5b38-4f83-b759-01e8f8071906",
   "metadata": {},
   "outputs": [],
   "source": [
    "cnn_codes = torch.empty((0,))\n",
    "\n",
    "for i in range(nb_samples):\n",
    "    inputs = all_samples[i:i+1]\n",
    "    inputs = (inputs - vgg_mean) / vgg_std\n",
    "    inputs = F.interpolate(inputs, size=224, mode='bilinear')\n",
    "    cnn_codes = torch.cat([cnn_codes, vgg_features(inputs).detach()])"
   ]
  },
  {
   "cell_type": "code",
   "execution_count": null,
   "id": "f35b4e01-360b-419a-8300-0479f435b58d",
   "metadata": {},
   "outputs": [],
   "source": [
    "x_emb = TSNE().fit_transform(cnn_codes.reshape(nb_samples, -1))\n",
    "xy_plot(x_emb, labels, 'TSNE')"
   ]
  },
  {
   "cell_type": "markdown",
   "id": "546971f7-0272-4167-b7f1-3d83b2d05626",
   "metadata": {},
   "source": [
    "## VGG features - unnormalised"
   ]
  },
  {
   "cell_type": "code",
   "execution_count": null,
   "id": "5271cb70-e1e3-4609-9585-670dab252b2a",
   "metadata": {},
   "outputs": [],
   "source": [
    "cnn_codes_un = torch.empty((0,))\n",
    "\n",
    "for i in range(nb_samples):\n",
    "    inputs = all_samples_un[i:i+1]\n",
    "    inputs = (inputs - vgg_mean) / vgg_std\n",
    "    inputs = F.interpolate(inputs, size=224, mode='bilinear')\n",
    "    cnn_codes_un = torch.cat([cnn_codes_un, vgg_features(inputs).detach()])"
   ]
  },
  {
   "cell_type": "code",
   "execution_count": null,
   "id": "e5d8ec07-6200-4cee-bc4d-43204b2d5074",
   "metadata": {
    "tags": []
   },
   "outputs": [],
   "source": [
    "x_emb = TSNE().fit_transform(cnn_codes_un.reshape(nb_samples, -1))\n",
    "xy_plot(x_emb, labels, 'TSNE')"
   ]
  }
 ],
 "metadata": {
  "kernelspec": {
   "display_name": "Python 3",
   "language": "python",
   "name": "python3"
  },
  "language_info": {
   "codemirror_mode": {
    "name": "ipython",
    "version": 3
   },
   "file_extension": ".py",
   "mimetype": "text/x-python",
   "name": "python",
   "nbconvert_exporter": "python",
   "pygments_lexer": "ipython3",
   "version": "3.8.8"
  }
 },
 "nbformat": 4,
 "nbformat_minor": 5
}
